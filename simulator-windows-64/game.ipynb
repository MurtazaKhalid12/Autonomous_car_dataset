import os
import pandas as pd
import numpy as np
import matplotlib.pyplot as plt
import cv2
import matplotlib.image as mpimg

# 1. Load your CSV file
csv_path = 'driving_log.csv'  # CSV is in the current directory
columns = ["center", "left", "right", "steering", "throttle", "reverse", "speed"]
data = pd.read_csv(csv_path, names=columns)

# 2. Extract image paths and steering values
def path_leaf(path):
    return os.path.basename(path.strip())

data['center'] = data['center'].apply(path_leaf)
image_folder = 'IMG'  # IMG folder is in the current directory
image_paths = [os.path.join(image_folder, fname) for fname in data['center']]
steerings = data['steering'].astype(float).values

# 3. Preprocess images (example: crop, resize, normalize)
def img_preprocess(img):
    if isinstance(img, str):
        img = mpimg.imread(img)
    img = img[60:135, :]  # Crop
    img = cv2.cvtColor(img, cv2.COLOR_RGB2YUV)
    img = cv2.GaussianBlur(img, (3, 3), 0)
    img = cv2.resize(img, (200, 66))
    img = img / 255.0
    return img

# 4. (Optional) Preprocess all images and store in a list (for testing/visualization)
# processed_images = [img_preprocess(path) for path in image_paths]

# 5. Plot histogram of steering values
num_bins = 25
plt.figure(figsize=(8,4))
plt.hist(steerings, bins=num_bins, width=0.05)
plt.title('Steering Angle Distribution')
plt.xlabel('Steering Angle')
plt.ylabel('Number of Images')
plt.show()